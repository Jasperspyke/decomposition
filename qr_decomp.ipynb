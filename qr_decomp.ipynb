{
 "cells": [
  {
   "cell_type": "code",
   "metadata": {
    "collapsed": true,
    "pycharm": {
     "is_executing": true
    },
    "ExecuteTime": {
     "end_time": "2025-01-04T01:23:36.691242Z",
     "start_time": "2025-01-04T01:23:36.688268Z"
    }
   },
   "source": [
    "import numpy as np\n",
    "np.set_printoptions(suppress=True)\n",
    "from main import *"
   ],
   "outputs": [],
   "execution_count": 204
  },
  {
   "metadata": {
    "ExecuteTime": {
     "end_time": "2025-01-04T01:23:36.731603Z",
     "start_time": "2025-01-04T01:23:36.728358Z"
    }
   },
   "cell_type": "code",
   "source": [
    "A = np.array([[0, 0, 0, 5, 10, 0, 15, 0], [0, 0, 0, 0, 0, 0, 0, 0], [0, 1, 3, -2, 0, 2, 0, 0], [0, 2, 6, -5, -2, 4, -3, 0], [0, 2, 6, 0, 8, 4, 18, 0]], dtype=float)\n",
    "\n",
    "def swap(arr, row1, row2):\n",
    "    arr[[row1, row2]] = arr[[row2, row1]]\n",
    "    return arr"
   ],
   "outputs": [],
   "execution_count": 205
  },
  {
   "metadata": {
    "ExecuteTime": {
     "end_time": "2025-01-04T01:23:36.740125Z",
     "start_time": "2025-01-04T01:23:36.735926Z"
    }
   },
   "cell_type": "code",
   "source": [
    "def check_rref(A):\n",
    "    m = A.shape[0]\n",
    "    n = A.shape[1]\n",
    "    for row in range(m):\n",
    "        try:\n",
    "            A[row, np.nonzero(A[row])[0][0]]\n",
    "            pivot_value = A[row, np.nonzero(A[row])[0][0]]\n",
    "            if pivot_value == 1:\n",
    "                continue\n",
    "            else:\n",
    "                return False\n",
    "        except IndexError:\n",
    "            assert np.all(A[row] == 0)\n",
    "            continue\n",
    "    return True\n",
    "\n",
    "\n",
    "def is_highest_pivot(arr, pivot_row, pivot_col):\n",
    "    return np.argmax(arr[:, pivot_col]) == pivot_row\n",
    "\n"
   ],
   "outputs": [],
   "execution_count": 206
  },
  {
   "metadata": {
    "ExecuteTime": {
     "end_time": "2025-01-04T01:25:41.254387Z",
     "start_time": "2025-01-04T01:25:41.248280Z"
    }
   },
   "cell_type": "code",
   "source": [
    "def swap(arr, row1, row2):\n",
    "    arr[[row1, row2]] = arr[[row2, row1]]\n",
    "    return arr\n",
    "\n",
    "def row_reduce(A): # Reduced row echelon form for matrix A (Gaussian Elimination with partial pivoting)\n",
    "\n",
    "    n = A.shape[0]\n",
    "    num_pivots = 0\n",
    "\n",
    "    for pivdex in range(n):\n",
    "        if check_rref(A):\n",
    "            break\n",
    "        else:\n",
    "            candidate_columns = np.nonzero(A[num_pivots:, :])[1]\n",
    "            if len(candidate_columns) < 1: # if it's all zeros or a pivot\n",
    "                continue\n",
    "            elif len(candidate_columns) == 1:\n",
    "                pivrow = np.nonzero(A[:, candidate_columns.item()])[0][-1]\n",
    "                pivcol = candidate_columns.item()\n",
    "            else:\n",
    "                pivcol = np.min(candidate_columns)      # find the leftmost pivot\n",
    "                pivrow = np.argmax(A[:, pivcol])              # find the highest pivot\n",
    "\n",
    "            assert A[pivrow, pivcol] != 0\n",
    "            A = swap(A, num_pivots, pivrow)\n",
    "            A[num_pivots] /= A[num_pivots, pivcol]\n",
    "\n",
    "            for i in range(n):\n",
    "                if i == num_pivots:\n",
    "                    continue\n",
    "                elim_factor = A[i, pivcol]\n",
    "                A[i] -= elim_factor * A[num_pivots]\n",
    "\n",
    "            num_pivots += 1\n",
    "            try:\n",
    "                pivdices = np.nonzero(A[num_pivots])[0]\n",
    "            except IndexError:\n",
    "                return A\n",
    "            A = np.array(sorted(A, key=lambda row: np.all(row == 0)))\n",
    "            assert all(x < y for x, y in zip(pivdices, pivdices[1:]))\n",
    "            if num_pivots == -1:\n",
    "                print('done!')\n",
    "                break\n",
    "\n",
    "\n",
    "    return A\n",
    "\n"
   ],
   "outputs": [],
   "execution_count": 211
  },
  {
   "metadata": {
    "ExecuteTime": {
     "end_time": "2025-01-04T01:23:36.938377100Z",
     "start_time": "2025-01-04T01:19:36.061925Z"
    }
   },
   "cell_type": "code",
   "source": "",
   "outputs": [],
   "execution_count": null
  },
  {
   "metadata": {},
   "cell_type": "code",
   "outputs": [],
   "execution_count": null,
   "source": ""
  }
 ],
 "metadata": {
  "kernelspec": {
   "display_name": "Python 3",
   "language": "python",
   "name": "python3"
  },
  "language_info": {
   "codemirror_mode": {
    "name": "ipython",
    "version": 2
   },
   "file_extension": ".py",
   "mimetype": "text/x-python",
   "name": "python",
   "nbconvert_exporter": "python",
   "pygments_lexer": "ipython2",
   "version": "2.7.6"
  }
 },
 "nbformat": 4,
 "nbformat_minor": 0
}
