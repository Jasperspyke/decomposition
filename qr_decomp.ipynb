{
 "cells": [
  {
   "cell_type": "code",
   "execution_count": 105,
   "metadata": {
    "collapsed": true,
    "ExecuteTime": {
     "end_time": "2024-06-25T03:24:36.028696Z",
     "start_time": "2024-06-25T03:24:36.001363Z"
    }
   },
   "outputs": [],
   "source": [
    "import numpy as np\n",
    "np.set_printoptions(suppress=True)"
   ]
  },
  {
   "cell_type": "code",
   "execution_count": 136,
   "outputs": [],
   "source": [
    "def get_norm(U):\n",
    "    return np.sqrt(np.dot(U, U))\n",
    "\n",
    "def unit_shorten(U):\n",
    "    norm = get_norm(U)\n",
    "    return U * 1/norm\n",
    "\n",
    "def projection(U, V):\n",
    "    U = U.flatten()\n",
    "    V = V.flatten()\n",
    "    dot = np.dot(U, V)\n",
    "    norm = get_norm(U) ** 2\n",
    "    proj = dot/norm * U\n",
    "    return proj\n",
    "\n",
    "def check_convergence(A, B):\n",
    "    D = A - B\n",
    "    for i in D.flatten():\n",
    "        if i > 1e-6:\n",
    "            return False\n",
    "    return True\n",
    "\n",
    "def qr_decompose(arr):\n",
    "    m = arr.shape[0]\n",
    "    n = arr.shape[1]\n",
    "    orthmat = arr.copy()\n",
    "    upper = np.zeros(arr.shape)\n",
    "\n",
    "    # set 1, 1 element of R\n",
    "    upper[0, 0] = get_norm(arr[:, 0])\n",
    "\n",
    "    for i in range(orthmat.shape[1]):\n",
    "        v = orthmat[:, i].reshape(-1,)\n",
    "        if i > 0:\n",
    "            residual_sum = np.zeros(v.shape)\n",
    "            U = np.split(orthmat[:, :i], i, axis=1)\n",
    "            for u in U:\n",
    "                residual = projection(u, v)\n",
    "                residual_sum += residual\n",
    "            v -= residual_sum\n",
    "            upper[i, i] = get_norm(v)\n",
    "        orthmat[:, i] = unit_shorten(v)\n",
    "# calculate the entries in R that are above the diagonal\n",
    "    for i in range(m):\n",
    "        for j in range(n):\n",
    "            if j > i:\n",
    "                upper[i, j] = np.dot(arr[:, j], orthmat[:, i])\n",
    "    return orthmat, upper\n"
   ],
   "metadata": {
    "collapsed": false,
    "ExecuteTime": {
     "end_time": "2024-06-25T03:38:59.060282Z",
     "start_time": "2024-06-25T03:38:59.036534Z"
    }
   }
  },
  {
   "cell_type": "code",
   "execution_count": 168,
   "outputs": [],
   "source": [
    "a = np.array([[1,2,3], [3, 1, 4], [5, 1, 0]], dtype=np.float64)\n",
    "b = np.array([[1,2,3], [3, 1, 4], [5, 1, 0]], dtype=np.float64).transpose()\n",
    "A = a @ b"
   ],
   "metadata": {
    "collapsed": false,
    "ExecuteTime": {
     "end_time": "2024-06-25T04:01:10.394041Z",
     "start_time": "2024-06-25T04:01:10.379199Z"
    }
   }
  },
  {
   "cell_type": "code",
   "execution_count": 171,
   "outputs": [
    {
     "name": "stdout",
     "output_type": "stream",
     "text": [
      "Eigenvalues are calculated as:  [50.23128322004287, 14.536124006136003, 1.2325927738211266]\n"
     ]
    }
   ],
   "source": [
    "def main():\n",
    "    iters = 0\n",
    "    A_next = A.copy()  # Initialize A_next with a copy of A\n",
    "    A_prev = np.eye(A.shape[0], dtype=np.float64)\n",
    "\n",
    "    while not check_convergence(A_next, A_prev):\n",
    "        A_prev = A_next  # Store the current A_next as A_prev before updating\n",
    "        Q, R = qr_decompose(A_next)\n",
    "        A_next = R @ Q\n",
    "        iters += 1\n",
    "        if iters > 999:\n",
    "            print('Warning: 999 iterations reached without convergence!')\n",
    "            break\n",
    "\n",
    "    eigenvalues = [A_next[i, i] for i in range(A.shape[0])]\n",
    "    print('Eigenvalues are calculated as: ', eigenvalues)\n",
    "\n",
    "if __name__ == '__main__':\n",
    "    main()"
   ],
   "metadata": {
    "collapsed": false,
    "ExecuteTime": {
     "end_time": "2024-06-25T04:01:20.859711Z",
     "start_time": "2024-06-25T04:01:20.826316Z"
    }
   }
  },
  {
   "cell_type": "code",
   "execution_count": null,
   "outputs": [],
   "source": [],
   "metadata": {
    "collapsed": false
   }
  }
 ],
 "metadata": {
  "kernelspec": {
   "display_name": "Python 3",
   "language": "python",
   "name": "python3"
  },
  "language_info": {
   "codemirror_mode": {
    "name": "ipython",
    "version": 2
   },
   "file_extension": ".py",
   "mimetype": "text/x-python",
   "name": "python",
   "nbconvert_exporter": "python",
   "pygments_lexer": "ipython2",
   "version": "2.7.6"
  }
 },
 "nbformat": 4,
 "nbformat_minor": 0
}
